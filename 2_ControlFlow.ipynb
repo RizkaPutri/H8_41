{
 "cells": [
  {
   "cell_type": "code",
   "execution_count": 6,
   "metadata": {},
   "outputs": [
    {
     "name": "stdout",
     "output_type": "stream",
     "text": [
      "x < 5\n",
      "next\n",
      "Benar\n"
     ]
    }
   ],
   "source": [
    "x = 0\n",
    "y = 5\n",
    "\n",
    "if x < 5:\n",
    "    print('x < 5')\n",
    "print(\"next\")\n",
    "if y < x :\n",
    "    print('No')\n",
    "if True:\n",
    "    print('Benar')\n",
    "if False:\n",
    "    print('Skip')"
   ]
  },
  {
   "cell_type": "code",
   "execution_count": 4,
   "metadata": {},
   "outputs": [
    {
     "data": {
      "text/plain": [
       "False"
      ]
     },
     "execution_count": 4,
     "metadata": {},
     "output_type": "execute_result"
    }
   ],
   "source": [
    "x<5\n",
    "y<x"
   ]
  },
  {
   "cell_type": "code",
   "execution_count": 9,
   "metadata": {},
   "outputs": [
    {
     "name": "stdout",
     "output_type": "stream",
     "text": [
      "False\n",
      "True\n"
     ]
    }
   ],
   "source": [
    "print(bool(0))\n",
    "print(bool(5))"
   ]
  },
  {
   "cell_type": "code",
   "execution_count": 11,
   "metadata": {},
   "outputs": [
    {
     "name": "stdout",
     "output_type": "stream",
     "text": [
      "True\n"
     ]
    }
   ],
   "source": [
    "if x :\n",
    "    print(x!= 0)\n",
    "if y :\n",
    "    print(y != 0)"
   ]
  },
  {
   "cell_type": "code",
   "execution_count": 12,
   "metadata": {},
   "outputs": [],
   "source": [
    "myList = ['foo','bar','baz','quux']"
   ]
  },
  {
   "cell_type": "code",
   "execution_count": 14,
   "metadata": {},
   "outputs": [
    {
     "name": "stdout",
     "output_type": "stream",
     "text": [
      "True\n",
      "False\n"
     ]
    }
   ],
   "source": [
    "print('foo' in myList)\n",
    "print(100 in myList)"
   ]
  },
  {
   "cell_type": "code",
   "execution_count": 16,
   "metadata": {},
   "outputs": [
    {
     "name": "stdout",
     "output_type": "stream",
     "text": [
      "just buy the magazine\n"
     ]
    }
   ],
   "source": [
    "book_price = 5000\n",
    "magazine_price = 1000\n",
    "money = 2000\n",
    "\n",
    "if money > book_price :\n",
    "    print(\"lets's buy the book\")\n",
    "elif money > magazine_price:\n",
    "    print(\"just buy the magazine\")\n",
    "else:\n",
    "    print(\"lets collect more money\")"
   ]
  },
  {
   "cell_type": "code",
   "execution_count": 17,
   "metadata": {},
   "outputs": [
    {
     "name": "stdout",
     "output_type": "stream",
     "text": [
      "1\n",
      "2\n",
      "3\n"
     ]
    }
   ],
   "source": [
    "if \"f\" in \"foo\": print(1);print(2);print(3)"
   ]
  },
  {
   "cell_type": "code",
   "execution_count": 18,
   "metadata": {},
   "outputs": [
    {
     "name": "stdout",
     "output_type": "stream",
     "text": [
      "let's go to library\n"
     ]
    }
   ],
   "source": [
    "is_rain = True\n",
    "destination = \"beach\" if not is_rain else \"library\"\n",
    "print(\"let's go to\", destination)"
   ]
  },
  {
   "cell_type": "code",
   "execution_count": 22,
   "metadata": {},
   "outputs": [
    {
     "name": "stdout",
     "output_type": "stream",
     "text": [
      "4\n",
      "3\n",
      "2\n",
      "1\n",
      "0\n",
      "stop\n"
     ]
    }
   ],
   "source": [
    "n = 5\n",
    "while n > 0:\n",
    "    n -= 1\n",
    "    print(n)\n",
    "print('stop')"
   ]
  },
  {
   "cell_type": "code",
   "execution_count": 26,
   "metadata": {},
   "outputs": [
    {
     "name": "stdout",
     "output_type": "stream",
     "text": [
      "5\n",
      "4\n",
      "3\n",
      "lopping stoped\n"
     ]
    }
   ],
   "source": [
    "x = 5 \n",
    "while x > 0 :\n",
    "    print(x)\n",
    "    x -= 1\n",
    "    if x == 2:\n",
    "        break\n",
    "print('lopping stopped')"
   ]
  },
  {
   "cell_type": "code",
   "execution_count": 29,
   "metadata": {},
   "outputs": [
    {
     "name": "stdout",
     "output_type": "stream",
     "text": [
      "4\n",
      "3\n",
      "1\n",
      "0\n",
      "lopping stopped\n"
     ]
    }
   ],
   "source": [
    "x = 5 \n",
    "while x > 0 :\n",
    "    x -= 1\n",
    "    if x == 2:\n",
    "        continue\n",
    "    print(x)\n",
    "else:\n",
    "    print('lopping stopped')"
   ]
  },
  {
   "cell_type": "code",
   "execution_count": 31,
   "metadata": {},
   "outputs": [
    {
     "name": "stdout",
     "output_type": "stream",
     "text": [
      "9\n",
      "8\n",
      "7\n",
      "6\n",
      "5\n",
      "4\n",
      "3\n",
      "2\n",
      "1\n",
      "0\n"
     ]
    }
   ],
   "source": [
    "n = 10\n",
    "while n > 0 : n-=1;print(n)"
   ]
  },
  {
   "cell_type": "code",
   "execution_count": 1,
   "metadata": {},
   "outputs": [
    {
     "name": "stdout",
     "output_type": "stream",
     "text": [
      "10 is even\n",
      "9 is odd and not divisible 3\n",
      "7 is odd and not divisible 3\n",
      "6 is even\n",
      "4 is even\n",
      "3 is odd and not divisible 3\n",
      "1 is odd and not divisible 3\n"
     ]
    }
   ],
   "source": [
    "n = 10\n",
    "while n > 0 :\n",
    "    if (n+1) % 3 ==0:\n",
    "        n -= 1\n",
    "        continue\n",
    "    elif n % 2 == 0:\n",
    "        print(n, \"is even\")\n",
    "    else:\n",
    "        print(n, \"is odd and not divisible 3\")\n",
    "    n-=1"
   ]
  },
  {
   "cell_type": "code",
   "execution_count": 2,
   "metadata": {},
   "outputs": [],
   "source": [
    "a = ['foo','bar','baz']"
   ]
  },
  {
   "cell_type": "code",
   "execution_count": 4,
   "metadata": {},
   "outputs": [
    {
     "name": "stdout",
     "output_type": "stream",
     "text": [
      "foo\n",
      "bar\n",
      "baz\n"
     ]
    }
   ],
   "source": [
    "for i in a:\n",
    "    print(i)"
   ]
  },
  {
   "cell_type": "code",
   "execution_count": 13,
   "metadata": {},
   "outputs": [
    {
     "name": "stdout",
     "output_type": "stream",
     "text": [
      "1\n",
      "{'satu': 1, 'dua': 2, 'tiga': 3, 'empat': 4}\n",
      "key: satu value 1\n",
      "key: dua value 2\n",
      "key: tiga value 3\n",
      "key: empat value 4\n"
     ]
    }
   ],
   "source": [
    "my_dict = {\n",
    "    \"satu\":1,\n",
    "    \"dua\":2,\n",
    "    \"tiga\":3,\n",
    "    \"empat\":4\n",
    "}\n",
    "print(my_dict.get(\"satu\"))\n",
    "print(my_dict)\n",
    "for key,value in my_dict.items():\n",
    "    print(\"key:\",key,\"value:\",value)"
   ]
  },
  {
   "cell_type": "code",
   "execution_count": 23,
   "metadata": {},
   "outputs": [
    {
     "name": "stdout",
     "output_type": "stream",
     "text": [
      "value :  1\n",
      "value :  2\n",
      "value :  3\n",
      "value :  4\n",
      "key: satu value : 1\n",
      "key: dua value : 2\n",
      "key: tiga value : 3\n",
      "key: empat value : 4\n"
     ]
    }
   ],
   "source": [
    "for value in my_dict.values():\n",
    "    print(\"value : \", value)\n",
    "for key in my_dict.keys():\n",
    "    print(\"key:\",key ,\"value :\",my_dict[key])"
   ]
  },
  {
   "cell_type": "code",
   "execution_count": 7,
   "metadata": {},
   "outputs": [
    {
     "data": {
      "text/plain": [
       "[('satu', 1), ('dua', 2), ('tiga', 3), ('empat', 4)]"
      ]
     },
     "execution_count": 7,
     "metadata": {},
     "output_type": "execute_result"
    }
   ],
   "source": [
    "key,value = list(my_dict.items())"
   ]
  },
  {
   "cell_type": "code",
   "execution_count": 27,
   "metadata": {},
   "outputs": [
    {
     "name": "stdout",
     "output_type": "stream",
     "text": [
      "i: 1 j: 2 k: 3\n",
      "i: 4 j: 5 k: 6\n",
      "i: 7 j: 8 k: 9\n"
     ]
    }
   ],
   "source": [
    "nested_list = [\n",
    "    [1,2,3],\n",
    "    [4,5,6],\n",
    "    [7,8,9]\n",
    "]\n",
    "for i,j,k in nested_list:\n",
    "    print(\"i:\",i,\"j:\",j,\"k:\",k)"
   ]
  },
  {
   "cell_type": "code",
   "execution_count": 31,
   "metadata": {},
   "outputs": [
    {
     "name": "stdout",
     "output_type": "stream",
     "text": [
      "1\n",
      "2\n",
      "3\n",
      "4\n"
     ]
    }
   ],
   "source": [
    "for i in range(1,5):\n",
    "    print(i)"
   ]
  },
  {
   "cell_type": "code",
   "execution_count": 39,
   "metadata": {
    "scrolled": true
   },
   "outputs": [
    {
     "name": "stdout",
     "output_type": "stream",
     "text": [
      "[0,0] = 1\n",
      "[0,0] = 1\n",
      "[0,1] = 2\n",
      "[0,1] = 2\n",
      "[0,2] = 3\n",
      "[0,2] = 3\n",
      "[1,0] = 4\n",
      "[1,0] = 4\n",
      "[1,1] = 5\n",
      "[1,1] = 5\n",
      "[1,2] = 6\n",
      "[1,2] = 6\n",
      "[2,0] = 7\n",
      "[2,0] = 7\n",
      "[2,1] = 8\n",
      "[2,1] = 8\n",
      "[2,2] = 9\n",
      "[2,2] = 9\n"
     ]
    }
   ],
   "source": [
    "for i in range(len(nested_list)):\n",
    "    for j in range(len(nested_list[i])):\n",
    "        #f-string literal\n",
    "        print(f\"[{i},{j}] = {nested_list[i][j]}\") \n",
    "        #atau\n",
    "        print(\"[{},{}] = {}\".format(i,j,nested_list[i][j]))\n",
    "              "
   ]
  },
  {
   "cell_type": "code",
   "execution_count": null,
   "metadata": {},
   "outputs": [],
   "source": []
  },
  {
   "cell_type": "code",
   "execution_count": null,
   "metadata": {},
   "outputs": [],
   "source": []
  },
  {
   "cell_type": "code",
   "execution_count": null,
   "metadata": {},
   "outputs": [],
   "source": []
  },
  {
   "cell_type": "code",
   "execution_count": null,
   "metadata": {},
   "outputs": [],
   "source": []
  },
  {
   "cell_type": "code",
   "execution_count": null,
   "metadata": {},
   "outputs": [],
   "source": []
  }
 ],
 "metadata": {
  "kernelspec": {
   "display_name": "Python 3",
   "language": "python",
   "name": "python3"
  },
  "language_info": {
   "codemirror_mode": {
    "name": "ipython",
    "version": 3
   },
   "file_extension": ".py",
   "mimetype": "text/x-python",
   "name": "python",
   "nbconvert_exporter": "python",
   "pygments_lexer": "ipython3",
   "version": "3.7.4"
  }
 },
 "nbformat": 4,
 "nbformat_minor": 2
}
