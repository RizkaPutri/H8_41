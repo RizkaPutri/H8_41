{
 "cells": [
  {
   "cell_type": "code",
   "execution_count": 53,
   "metadata": {},
   "outputs": [],
   "source": [
    "def hello_student(param):\n",
    "    \"say hello to student\"\n",
    "    print(f\"hello,{param}!\")\n",
    "\n",
    "    \n",
    "def greet(call, students):\n",
    "    print(f\"hello,{call},{students}!\")\n",
    "    \n",
    "\n",
    "def print_simple_linear(x, a = .5, b= 0):\n",
    "    linear = a*x+b\n",
    "    print(linear)\n",
    "\n",
    "\n",
    "def return_simple_linear(x, a = .5, b= 0):\n",
    "    linear = a*x+b\n",
    "    return linear"
   ]
  },
  {
   "cell_type": "code",
   "execution_count": 5,
   "metadata": {},
   "outputs": [],
   "source": [
    "students = [\"mirza\",\"joey\",\"rizka\",\"teo\",\"sarah\"]"
   ]
  },
  {
   "cell_type": "code",
   "execution_count": 8,
   "metadata": {},
   "outputs": [
    {
     "name": "stdout",
     "output_type": "stream",
     "text": [
      "hello,mirza!\n",
      "hello,joey!\n",
      "hello,rizka!\n",
      "hello,teo!\n",
      "hello,sarah!\n"
     ]
    }
   ],
   "source": [
    "for student in students:\n",
    "    hello_student(student)"
   ]
  },
  {
   "cell_type": "code",
   "execution_count": 9,
   "metadata": {},
   "outputs": [
    {
     "ename": "TypeError",
     "evalue": "hello_student() takes 1 positional argument but 2 were given",
     "output_type": "error",
     "traceback": [
      "\u001b[1;31m---------------------------------------------------------------------------\u001b[0m",
      "\u001b[1;31mTypeError\u001b[0m                                 Traceback (most recent call last)",
      "\u001b[1;32m<ipython-input-9-6acaa54012e1>\u001b[0m in \u001b[0;36m<module>\u001b[1;34m\u001b[0m\n\u001b[1;32m----> 1\u001b[1;33m \u001b[0mhello_student\u001b[0m\u001b[1;33m(\u001b[0m\u001b[1;36m100\u001b[0m\u001b[1;33m,\u001b[0m\u001b[1;36m200\u001b[0m\u001b[1;33m)\u001b[0m\u001b[1;33m\u001b[0m\u001b[1;33m\u001b[0m\u001b[0m\n\u001b[0m",
      "\u001b[1;31mTypeError\u001b[0m: hello_student() takes 1 positional argument but 2 were given"
     ]
    }
   ],
   "source": [
    "hello_student(100,200)"
   ]
  },
  {
   "cell_type": "code",
   "execution_count": 13,
   "metadata": {},
   "outputs": [
    {
     "name": "stdout",
     "output_type": "stream",
     "text": [
      "hello,100,rizka!\n"
     ]
    }
   ],
   "source": [
    "greet(100,\"rizka\")"
   ]
  },
  {
   "cell_type": "code",
   "execution_count": 15,
   "metadata": {},
   "outputs": [],
   "source": [
    "# parameter -> digunakan pada function\n",
    "# argumen -> nilai yang dimasukkan contoh greet(8)"
   ]
  },
  {
   "cell_type": "code",
   "execution_count": 23,
   "metadata": {},
   "outputs": [],
   "source": [
    "def printme(str):\n",
    "    \"mencetak kata\"\n",
    "    print(str)\n",
    "    return"
   ]
  },
  {
   "cell_type": "code",
   "execution_count": 24,
   "metadata": {},
   "outputs": [
    {
     "name": "stdout",
     "output_type": "stream",
     "text": [
      "halo, saya anak baru\n",
      "halo, saya anak baru\n"
     ]
    }
   ],
   "source": [
    "printme(\"halo, saya anak baru\")\n",
    "# keyword argumen bisa dibolak balik\n",
    "printme(str=\"halo, saya anak baru\")"
   ]
  },
  {
   "cell_type": "code",
   "execution_count": 25,
   "metadata": {},
   "outputs": [
    {
     "name": "stdout",
     "output_type": "stream",
     "text": [
      "hello,halo,rizka!\n"
     ]
    }
   ],
   "source": [
    "greet(students=\"rizka\",call=\"halo\")"
   ]
  },
  {
   "cell_type": "code",
   "execution_count": 28,
   "metadata": {},
   "outputs": [
    {
     "ename": "SyntaxError",
     "evalue": "non-default argument follows default argument (<ipython-input-28-0ae95092ec02>, line 2)",
     "output_type": "error",
     "traceback": [
      "\u001b[1;36m  File \u001b[1;32m\"<ipython-input-28-0ae95092ec02>\"\u001b[1;36m, line \u001b[1;32m2\u001b[0m\n\u001b[1;33m    def greetnew(call=\"hello\", students):\u001b[0m\n\u001b[1;37m                ^\u001b[0m\n\u001b[1;31mSyntaxError\u001b[0m\u001b[1;31m:\u001b[0m non-default argument follows default argument\n"
     ]
    }
   ],
   "source": [
    "#default arguments\n",
    "def greetnew(call=\"hello\", students):\n",
    "    print(f\",{call},{students}!\")"
   ]
  },
  {
   "cell_type": "code",
   "execution_count": 39,
   "metadata": {},
   "outputs": [],
   "source": [
    "def info(name, age=23):\n",
    "    print(\"name : \", name)\n",
    "    print(\"age : \", age)"
   ]
  },
  {
   "cell_type": "code",
   "execution_count": 42,
   "metadata": {},
   "outputs": [
    {
     "name": "stdout",
     "output_type": "stream",
     "text": [
      "name :  rizka\n",
      "age :  20\n"
     ]
    }
   ],
   "source": [
    "info(\"rizka\",20)"
   ]
  },
  {
   "cell_type": "code",
   "execution_count": 35,
   "metadata": {},
   "outputs": [],
   "source": [
    "def greet_all (greeting = \"hello\",*students):\n",
    "    print(greeting)\n",
    "    print(students)\n",
    "    for student in students:\n",
    "        print(f\"{greeting},{student}!\")"
   ]
  },
  {
   "cell_type": "code",
   "execution_count": 33,
   "metadata": {},
   "outputs": [
    {
     "name": "stdout",
     "output_type": "stream",
     "text": [
      "hactive8,jakarta!\n",
      "hactive8,indonesia!\n",
      "hactive8,world!\n"
     ]
    }
   ],
   "source": [
    "greet_all(\"hactive8\",\"jakarta\",\"indonesia\",\"world\")"
   ]
  },
  {
   "cell_type": "code",
   "execution_count": 38,
   "metadata": {},
   "outputs": [
    {
     "name": "stdout",
     "output_type": "stream",
     "text": [
      "['mirza', 'joey', 'rizka', 'teo', 'sarah']\n",
      "()\n",
      "mirza\n",
      "('joey', 'rizka', 'teo', 'sarah')\n",
      "mirza,joey!\n",
      "mirza,rizka!\n",
      "mirza,teo!\n",
      "mirza,sarah!\n",
      "hi\n",
      "('mirza', 'joey', 'rizka', 'teo', 'sarah')\n",
      "hi,mirza!\n",
      "hi,joey!\n",
      "hi,rizka!\n",
      "hi,teo!\n",
      "hi,sarah!\n"
     ]
    }
   ],
   "source": [
    "greet_all(students)\n",
    "greet_all(*students)\n",
    "greet_all(\"hi\",*students)"
   ]
  },
  {
   "cell_type": "code",
   "execution_count": null,
   "metadata": {},
   "outputs": [],
   "source": [
    "# urutannya positional, default argumen, asteris"
   ]
  },
  {
   "cell_type": "code",
   "execution_count": 48,
   "metadata": {},
   "outputs": [
    {
     "data": {
      "text/plain": [
       "42"
      ]
     },
     "execution_count": 48,
     "metadata": {},
     "output_type": "execute_result"
    }
   ],
   "source": [
    "simple_linear = lambda a,b,x: a*x+b\n",
    "simple_linear (10,2,4)"
   ]
  },
  {
   "cell_type": "code",
   "execution_count": 54,
   "metadata": {},
   "outputs": [
    {
     "name": "stdout",
     "output_type": "stream",
     "text": [
      "5.0\n"
     ]
    }
   ],
   "source": [
    "print_simple_linear(10)"
   ]
  },
  {
   "cell_type": "code",
   "execution_count": 56,
   "metadata": {},
   "outputs": [
    {
     "data": {
      "text/plain": [
       "5.0"
      ]
     },
     "execution_count": 56,
     "metadata": {},
     "output_type": "execute_result"
    }
   ],
   "source": [
    "return_simple_linear(10)"
   ]
  },
  {
   "cell_type": "code",
   "execution_count": null,
   "metadata": {},
   "outputs": [],
   "source": [
    "## scope variabel\n",
    "# global variabel\n",
    "# local variabel"
   ]
  },
  {
   "cell_type": "code",
   "execution_count": 64,
   "metadata": {},
   "outputs": [],
   "source": [
    "def compute(x, a=.5, b= 0):\n",
    "    linear = a * x + b\n",
    "    result = linear ** 2\n",
    "    return result\n",
    "\n",
    "\n",
    "def compute_all(x, a=.5, b= 0):\n",
    "    linear = a * x + b\n",
    "    linear2 = linear + result\n",
    "    return linear2"
   ]
  },
  {
   "cell_type": "code",
   "execution_count": 67,
   "metadata": {},
   "outputs": [
    {
     "name": "stdout",
     "output_type": "stream",
     "text": [
      "100\n",
      "100 625.0\n",
      "125.0\n"
     ]
    }
   ],
   "source": [
    "result = 100\n",
    "print(result)\n",
    "result2 = compute(50)\n",
    "print(result,result2)\n",
    "\n",
    "results = compute_all(50)\n",
    "print(results)"
   ]
  },
  {
   "cell_type": "code",
   "execution_count": 1,
   "metadata": {},
   "outputs": [],
   "source": [
    "import model"
   ]
  },
  {
   "cell_type": "code",
   "execution_count": 70,
   "metadata": {},
   "outputs": [
    {
     "name": "stdout",
     "output_type": "stream",
     "text": [
      "['mirza', 'joey', 'rizka', 'teo', 'sarah']\n"
     ]
    }
   ],
   "source": [
    "h8_students = model.students\n",
    "print(h8_students)"
   ]
  },
  {
   "cell_type": "code",
   "execution_count": 2,
   "metadata": {},
   "outputs": [
    {
     "data": {
      "text/plain": [
       "25.0"
      ]
     },
     "execution_count": 2,
     "metadata": {},
     "output_type": "execute_result"
    }
   ],
   "source": [
    "model.compute(10)"
   ]
  },
  {
   "cell_type": "code",
   "execution_count": 3,
   "metadata": {},
   "outputs": [],
   "source": [
    "import sys"
   ]
  },
  {
   "cell_type": "code",
   "execution_count": 5,
   "metadata": {},
   "outputs": [
    {
     "data": {
      "text/plain": [
       "['C:\\\\Users\\\\BRI\\\\Documents\\\\Rizka_Python\\\\Pertemuan_1',\n",
       " 'C:\\\\Users\\\\BRI\\\\Anaconda3\\\\python37.zip',\n",
       " 'C:\\\\Users\\\\BRI\\\\Anaconda3\\\\DLLs',\n",
       " 'C:\\\\Users\\\\BRI\\\\Anaconda3\\\\lib',\n",
       " 'C:\\\\Users\\\\BRI\\\\Anaconda3',\n",
       " '',\n",
       " 'C:\\\\Users\\\\BRI\\\\Anaconda3\\\\lib\\\\site-packages',\n",
       " 'C:\\\\Users\\\\BRI\\\\Anaconda3\\\\lib\\\\site-packages\\\\win32',\n",
       " 'C:\\\\Users\\\\BRI\\\\Anaconda3\\\\lib\\\\site-packages\\\\win32\\\\lib',\n",
       " 'C:\\\\Users\\\\BRI\\\\Anaconda3\\\\lib\\\\site-packages\\\\Pythonwin',\n",
       " 'C:\\\\Users\\\\BRI\\\\Anaconda3\\\\lib\\\\site-packages\\\\IPython\\\\extensions',\n",
       " 'C:\\\\Users\\\\BRI\\\\.ipython']"
      ]
     },
     "execution_count": 5,
     "metadata": {},
     "output_type": "execute_result"
    }
   ],
   "source": [
    "sys\n",
    "sys.path"
   ]
  },
  {
   "cell_type": "code",
   "execution_count": 6,
   "metadata": {},
   "outputs": [],
   "source": [
    "import datetime, math"
   ]
  },
  {
   "cell_type": "code",
   "execution_count": 7,
   "metadata": {},
   "outputs": [],
   "source": [
    "from model import compute"
   ]
  },
  {
   "cell_type": "code",
   "execution_count": 8,
   "metadata": {},
   "outputs": [],
   "source": [
    "from model import students as st"
   ]
  },
  {
   "cell_type": "code",
   "execution_count": 10,
   "metadata": {},
   "outputs": [
    {
     "data": {
      "text/plain": [
       "['mirza', 'joey', 'rizka', 'teo', 'sarah']"
      ]
     },
     "execution_count": 10,
     "metadata": {},
     "output_type": "execute_result"
    }
   ],
   "source": [
    "st"
   ]
  },
  {
   "cell_type": "code",
   "execution_count": 11,
   "metadata": {},
   "outputs": [],
   "source": [
    "import numpy as np\n",
    "import pandas as pd"
   ]
  },
  {
   "cell_type": "code",
   "execution_count": null,
   "metadata": {},
   "outputs": [],
   "source": []
  }
 ],
 "metadata": {
  "kernelspec": {
   "display_name": "Python 3",
   "language": "python",
   "name": "python3"
  },
  "language_info": {
   "codemirror_mode": {
    "name": "ipython",
    "version": 3
   },
   "file_extension": ".py",
   "mimetype": "text/x-python",
   "name": "python",
   "nbconvert_exporter": "python",
   "pygments_lexer": "ipython3",
   "version": "3.7.4"
  }
 },
 "nbformat": 4,
 "nbformat_minor": 2
}
