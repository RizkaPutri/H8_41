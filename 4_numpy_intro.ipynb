{
 "cells": [
  {
   "cell_type": "code",
   "execution_count": null,
   "metadata": {},
   "outputs": [],
   "source": [
    "# from <module_name> import <name>\n",
    "# contoh\n",
    "# from pkg<nama_folder>.mod1<nama_file> import port<nama_function>"
   ]
  },
  {
   "cell_type": "code",
   "execution_count": 1,
   "metadata": {},
   "outputs": [],
   "source": [
    "import numpy as np"
   ]
  },
  {
   "cell_type": "code",
   "execution_count": 2,
   "metadata": {},
   "outputs": [
    {
     "name": "stdout",
     "output_type": "stream",
     "text": [
      "Requirement already satisfied: numpy in c:\\users\\bri\\anaconda3\\lib\\site-packages (1.16.5)\n"
     ]
    }
   ],
   "source": [
    "!pip install numpy"
   ]
  },
  {
   "cell_type": "code",
   "execution_count": 3,
   "metadata": {},
   "outputs": [
    {
     "name": "stdout",
     "output_type": "stream",
     "text": [
      "# packages in environment at C:\\Users\\BRI\\Anaconda3:\n",
      "#\n",
      "# Name                    Version                   Build  Channel\n",
      "_ipyw_jlab_nb_ext_conf    0.1.0                    py37_0  \n",
      "alabaster                 0.7.12                   py37_0  \n",
      "anaconda                  2019.10                  py37_0  \n",
      "anaconda-client           1.7.2                    py37_0  \n",
      "anaconda-navigator        1.9.7                    py37_0  \n",
      "anaconda-project          0.8.3                      py_0  \n",
      "asn1crypto                1.0.1                    py37_0  \n",
      "astroid                   2.3.1                    py37_0  \n",
      "astropy                   3.2.1            py37he774522_0  \n",
      "atomicwrites              1.3.0                    py37_1  \n",
      "attrs                     19.2.0                     py_0  \n",
      "babel                     2.7.0                      py_0  \n",
      "backcall                  0.1.0                    py37_0  \n",
      "backports                 1.0                        py_2  \n",
      "backports.functools_lru_cache 1.5                        py_2  \n",
      "backports.os              0.1.1                    py37_0  \n",
      "backports.shutil_get_terminal_size 1.0.0                    py37_2  \n",
      "backports.tempfile        1.0                        py_1  \n",
      "backports.weakref         1.0.post1                  py_1  \n",
      "beautifulsoup4            4.8.0                    py37_0  \n",
      "bitarray                  1.0.1            py37he774522_0  \n",
      "bkcharts                  0.2                      py37_0  \n",
      "blas                      1.0                         mkl  \n",
      "bleach                    3.1.0                    py37_0  \n",
      "blosc                     1.16.3               h7bd577a_0  \n",
      "bokeh                     1.3.4                    py37_0  \n",
      "boto                      2.49.0                   py37_0  \n",
      "bottleneck                1.2.1            py37h452e1ab_1  \n",
      "bzip2                     1.0.8                he774522_0  \n",
      "ca-certificates           2019.8.28                     0  \n",
      "certifi                   2019.9.11                py37_0  \n",
      "cffi                      1.12.3           py37h7a1dbc1_0  \n",
      "chardet                   3.0.4                 py37_1003  \n",
      "click                     7.0                      py37_0  \n",
      "cloudpickle               1.2.2                      py_0  \n",
      "clyent                    1.2.2                    py37_1  \n",
      "colorama                  0.4.1                    py37_0  \n",
      "comtypes                  1.1.7                    py37_0  \n",
      "conda                     4.7.12                   py37_0  \n",
      "conda-build               3.18.9                   py37_3  \n",
      "conda-env                 2.6.0                         1  \n",
      "conda-package-handling    1.6.0            py37h62dcd97_0  \n",
      "conda-verify              3.4.2                      py_1  \n",
      "console_shortcut          0.1.1                         3  \n",
      "contextlib2               0.6.0                      py_0  \n",
      "cryptography              2.7              py37h7a1dbc1_0  \n",
      "curl                      7.65.3               h2a8f88b_0  \n",
      "cycler                    0.10.0                   py37_0  \n",
      "cython                    0.29.13          py37ha925a31_0  \n",
      "cytoolz                   0.10.0           py37he774522_0  \n",
      "dask                      2.5.2                      py_0  \n",
      "dask-core                 2.5.2                      py_0  \n",
      "decorator                 4.4.0                    py37_1  \n",
      "defusedxml                0.6.0                      py_0  \n",
      "distributed               2.5.2                      py_0  \n",
      "docutils                  0.15.2                   py37_0  \n",
      "entrypoints               0.3                      py37_0  \n",
      "et_xmlfile                1.0.1                    py37_0  \n",
      "fastcache                 1.1.0            py37he774522_0  \n",
      "filelock                  3.0.12                     py_0  \n",
      "flask                     1.1.1                      py_0  \n",
      "freetype                  2.9.1                ha9979f8_1  \n",
      "fsspec                    0.5.2                      py_0  \n",
      "future                    0.17.1                   py37_0  \n",
      "get_terminal_size         1.0.0                h38e98db_0  \n",
      "gevent                    1.4.0            py37he774522_0  \n",
      "glob2                     0.7                        py_0  \n",
      "greenlet                  0.4.15           py37hfa6e2cd_0  \n",
      "h5py                      2.9.0            py37h5e291fa_0  \n",
      "hdf5                      1.10.4               h7ebc959_0  \n",
      "heapdict                  1.0.1                      py_0  \n",
      "html5lib                  1.0.1                    py37_0  \n",
      "icc_rt                    2019.0.0             h0cc432a_1  \n",
      "icu                       58.2                 ha66f8fd_1  \n",
      "idna                      2.8                      py37_0  \n",
      "imageio                   2.6.0                    py37_0  \n",
      "imagesize                 1.1.0                    py37_0  \n",
      "importlib_metadata        0.23                     py37_0  \n",
      "intel-openmp              2019.4                      245  \n",
      "ipykernel                 5.1.2            py37h39e3cac_0  \n",
      "ipython                   7.8.0            py37h39e3cac_0  \n",
      "ipython_genutils          0.2.0                    py37_0  \n",
      "ipywidgets                7.5.1                      py_0  \n",
      "isort                     4.3.21                   py37_0  \n",
      "itsdangerous              1.1.0                    py37_0  \n",
      "jdcal                     1.4.1                      py_0  \n",
      "jedi                      0.15.1                   py37_0  \n",
      "jinja2                    2.10.3                     py_0  \n",
      "joblib                    0.13.2                   py37_0  \n",
      "jpeg                      9b                   hb83a4c4_2  \n",
      "json5                     0.8.5                      py_0  \n",
      "jsonschema                3.0.2                    py37_0  \n",
      "jupyter                   1.0.0                    py37_7  \n",
      "jupyter_client            5.3.3                    py37_1  \n",
      "jupyter_console           6.0.0                    py37_0  \n",
      "jupyter_core              4.5.0                      py_0  \n",
      "jupyterlab                1.1.4              pyhf63ae98_0  \n",
      "jupyterlab_server         1.0.6                      py_0  \n",
      "keyring                   18.0.0                   py37_0  \n",
      "kiwisolver                1.1.0            py37ha925a31_0  \n",
      "krb5                      1.16.1               hc04afaa_7  \n",
      "lazy-object-proxy         1.4.2            py37he774522_0  \n",
      "libarchive                3.3.3                h0643e63_5  \n",
      "libcurl                   7.65.3               h2a8f88b_0  \n",
      "libiconv                  1.15                 h1df5818_7  \n",
      "liblief                   0.9.0                ha925a31_2  \n",
      "libpng                    1.6.37               h2a8f88b_0  \n",
      "libsodium                 1.0.16               h9d3ae62_0  \n",
      "libssh2                   1.8.2                h7a1dbc1_0  \n",
      "libtiff                   4.0.10               hb898794_2  \n",
      "libxml2                   2.9.9                h464c3ec_0  \n",
      "libxslt                   1.1.33               h579f668_0  \n",
      "llvmlite                  0.29.0           py37ha925a31_0  \n",
      "locket                    0.2.0                    py37_1  \n",
      "lxml                      4.4.1            py37h1350720_0  \n",
      "lz4-c                     1.8.1.2              h2fa13f4_0  \n",
      "lzo                       2.10                 h6df0209_2  \n",
      "m2w64-gcc-libgfortran     5.3.0                         6  \n",
      "m2w64-gcc-libs            5.3.0                         7  \n",
      "m2w64-gcc-libs-core       5.3.0                         7  \n",
      "m2w64-gmp                 6.1.0                         2  \n",
      "m2w64-libwinpthread-git   5.0.0.4634.697f757               2  \n",
      "markupsafe                1.1.1            py37he774522_0  \n",
      "matplotlib                3.1.1            py37hc8f65d3_0  \n",
      "mccabe                    0.6.1                    py37_1  \n",
      "menuinst                  1.4.16           py37he774522_0  \n",
      "mistune                   0.8.4            py37he774522_0  \n",
      "mkl                       2019.4                      245  \n",
      "mkl-service               2.3.0            py37hb782905_0  \n",
      "mkl_fft                   1.0.14           py37h14836fe_0  \n",
      "mkl_random                1.1.0            py37h675688f_0  \n",
      "mock                      3.0.5                    py37_0  \n",
      "more-itertools            7.2.0                    py37_0  \n",
      "mpmath                    1.1.0                    py37_0  \n",
      "msgpack-python            0.6.1            py37h74a9793_1  \n",
      "msys2-conda-epoch         20160418                      1  \n",
      "multipledispatch          0.6.0                    py37_0  \n",
      "navigator-updater         0.2.1                    py37_0  \n",
      "nbconvert                 5.6.0                    py37_1  \n",
      "nbformat                  4.4.0                    py37_0  \n",
      "networkx                  2.3                        py_0  \n",
      "nltk                      3.4.5                    py37_0  \n",
      "nose                      1.3.7                    py37_2  \n",
      "notebook                  6.0.1                    py37_0  \n",
      "numba                     0.45.1           py37hf9181ef_0  \n",
      "numexpr                   2.7.0            py37hdce8814_0  \n",
      "numpy                     1.16.5           py37h19fb1c0_0  \n",
      "numpy-base                1.16.5           py37hc3f5095_0  \n",
      "numpydoc                  0.9.1                      py_0  \n",
      "olefile                   0.46                     py37_0  \n",
      "openpyxl                  3.0.0                      py_0  \n",
      "openssl                   1.1.1d               he774522_2  \n",
      "packaging                 19.2                       py_0  \n",
      "pandas                    0.25.1           py37ha925a31_0  \n",
      "pandoc                    2.2.3.2                       0  \n",
      "pandocfilters             1.4.2                    py37_1  \n",
      "parso                     0.5.1                      py_0  \n",
      "partd                     1.0.0                      py_0  \n",
      "path.py                   12.0.1                     py_0  \n",
      "pathlib2                  2.3.5                    py37_0  \n",
      "patsy                     0.5.1                    py37_0  \n",
      "pep8                      1.7.1                    py37_0  \n",
      "pickleshare               0.7.5                    py37_0  \n",
      "pillow                    6.2.0            py37hdc69c19_0  \n",
      "pip                       19.2.3                   py37_0  \n",
      "pkginfo                   1.5.0.1                  py37_0  \n",
      "pluggy                    0.13.0                   py37_0  \n",
      "ply                       3.11                     py37_0  \n",
      "powershell_shortcut       0.0.1                         2  \n",
      "prometheus_client         0.7.1                      py_0  \n",
      "prompt_toolkit            2.0.10                     py_0  \n",
      "psutil                    5.6.3            py37he774522_0  \n",
      "py                        1.8.0                    py37_0  \n",
      "py-lief                   0.9.0            py37ha925a31_2  \n",
      "pycodestyle               2.5.0                    py37_0  \n",
      "pycosat                   0.6.3            py37hfa6e2cd_0  \n",
      "pycparser                 2.19                     py37_0  \n",
      "pycrypto                  2.6.1            py37hfa6e2cd_9  \n",
      "pycurl                    7.43.0.3         py37h7a1dbc1_0  \n",
      "pyflakes                  2.1.1                    py37_0  \n",
      "pygments                  2.4.2                      py_0  \n",
      "pylint                    2.4.2                    py37_0  \n",
      "pyodbc                    4.0.27           py37ha925a31_0  \n",
      "pyopenssl                 19.0.0                   py37_0  \n",
      "pyparsing                 2.4.2                      py_0  \n",
      "pyqt                      5.9.2            py37h6538335_2  \n",
      "pyreadline                2.1                      py37_1  \n",
      "pyrsistent                0.15.4           py37he774522_0  \n",
      "pysocks                   1.7.1                    py37_0  \n",
      "pytables                  3.5.2            py37h1da0976_1  \n",
      "pytest                    5.2.1                    py37_0  \n",
      "pytest-arraydiff          0.3              py37h39e3cac_0  \n",
      "pytest-astropy            0.5.0                    py37_0  \n",
      "pytest-doctestplus        0.4.0                      py_0  \n",
      "pytest-openfiles          0.4.0                      py_0  \n",
      "pytest-remotedata         0.3.2                    py37_0  \n",
      "python                    3.7.4                h5263a28_0  \n",
      "python-dateutil           2.8.0                    py37_0  \n",
      "python-git                2018.2.1                 pypi_0    pypi\n",
      "python-libarchive-c       2.8                     py37_13  \n",
      "pytz                      2019.3                     py_0  \n",
      "pywavelets                1.0.3            py37h8c2d366_1  \n",
      "pywin32                   223              py37hfa6e2cd_1  \n",
      "pywinpty                  0.5.5                 py37_1000  \n",
      "pyyaml                    5.1.2            py37he774522_0  \n",
      "pyzmq                     18.1.0           py37ha925a31_0  \n",
      "qt                        5.9.7            vc14h73c81de_0  \n",
      "qtawesome                 0.6.0                      py_0  \n",
      "qtconsole                 4.5.5                      py_0  \n",
      "qtpy                      1.9.0                      py_0  \n",
      "requests                  2.22.0                   py37_0  \n",
      "rope                      0.14.0                     py_0  \n",
      "ruamel_yaml               0.15.46          py37hfa6e2cd_0  \n",
      "sastrawi                  1.0.1                    pypi_0    pypi\n",
      "scikit-image              0.15.0           py37ha925a31_0  \n",
      "scikit-learn              0.21.3           py37h6288b17_0  \n",
      "scipy                     1.3.1            py37h29ff71c_0  \n",
      "seaborn                   0.9.0                    py37_0  \n",
      "selenium                  3.141.0                  pypi_0    pypi\n",
      "send2trash                1.5.0                    py37_0  \n",
      "setuptools                41.4.0                   py37_0  \n",
      "simplegeneric             0.8.1                    py37_2  \n",
      "singledispatch            3.4.0.3                  py37_0  \n",
      "sip                       4.19.8           py37h6538335_0  \n",
      "six                       1.12.0                   py37_0  \n",
      "snappy                    1.1.7                h777316e_3  \n",
      "snowballstemmer           2.0.0                      py_0  \n",
      "sortedcollections         1.1.2                    py37_0  \n",
      "sortedcontainers          2.1.0                    py37_0  \n",
      "soupsieve                 1.9.3                    py37_0  \n",
      "sphinx                    2.2.0                      py_0  \n",
      "sphinxcontrib             1.0                      py37_1  \n",
      "sphinxcontrib-applehelp   1.0.1                      py_0  \n",
      "sphinxcontrib-devhelp     1.0.1                      py_0  \n",
      "sphinxcontrib-htmlhelp    1.0.2                      py_0  \n",
      "sphinxcontrib-jsmath      1.0.1                      py_0  \n",
      "sphinxcontrib-qthelp      1.0.2                      py_0  \n",
      "sphinxcontrib-serializinghtml 1.1.3                      py_0  \n",
      "sphinxcontrib-websupport  1.1.2                      py_0  \n",
      "spyder                    3.3.6                    py37_0  \n",
      "spyder-kernels            0.5.2                    py37_0  \n",
      "sqlalchemy                1.3.9            py37he774522_0  \n",
      "sqlite                    3.30.0               he774522_0  \n",
      "statsmodels               0.10.1           py37h8c2d366_0  \n",
      "sympy                     1.4                      py37_0  \n",
      "tbb                       2019.4               h74a9793_0  \n",
      "tblib                     1.4.0                      py_0  \n",
      "terminado                 0.8.2                    py37_0  \n",
      "testpath                  0.4.2                    py37_0  \n",
      "tk                        8.6.8                hfa6e2cd_0  \n",
      "toolz                     0.10.0                     py_0  \n",
      "tornado                   6.0.3            py37he774522_0  \n",
      "tqdm                      4.36.1                     py_0  \n",
      "traitlets                 4.3.3                    py37_0  \n",
      "unicodecsv                0.14.1                   py37_0  \n",
      "urllib3                   1.24.2                   py37_0  \n",
      "vc                        14.1                 h0510ff6_4  \n",
      "vs2015_runtime            14.16.27012          hf0eaf9b_0  \n",
      "wcwidth                   0.1.7                    py37_0  \n",
      "webencodings              0.5.1                    py37_1  \n",
      "werkzeug                  0.16.0                     py_0  \n",
      "wheel                     0.33.6                   py37_0  \n",
      "widgetsnbextension        3.5.1                    py37_0  \n",
      "win_inet_pton             1.1.0                    py37_0  \n",
      "win_unicode_console       0.5                      py37_0  \n",
      "wincertstore              0.2                      py37_0  \n",
      "winpty                    0.4.3                         4  \n",
      "wrapt                     1.11.2           py37he774522_0  \n",
      "xlrd                      1.2.0                    py37_0  \n",
      "xlsxwriter                1.2.1                      py_0  \n",
      "xlwings                   0.15.10                  py37_0  \n",
      "xlwt                      1.3.0                    py37_0  \n",
      "xz                        5.2.4                h2fa13f4_4  \n",
      "yaml                      0.1.7                hc54c509_2  \n",
      "yellowbrick               1.1                      pypi_0    pypi\n",
      "zeromq                    4.3.1                h33f27b4_3  \n",
      "zict                      1.0.0                      py_0  \n",
      "zipp                      0.6.0                      py_0  \n",
      "zlib                      1.2.11               h62dcd97_3  \n",
      "zstd                      1.3.7                h508b16e_0  \n"
     ]
    }
   ],
   "source": [
    "!conda list"
   ]
  },
  {
   "cell_type": "code",
   "execution_count": 6,
   "metadata": {},
   "outputs": [
    {
     "name": "stdout",
     "output_type": "stream",
     "text": [
      "conda 4.7.12\n",
      "# packages in environment at C:\\Users\\BRI\\Anaconda3:\n",
      "#\n",
      "# Name                    Version                   Build  Channel\n",
      "numpy                     1.16.5           py37h19fb1c0_0  \n",
      "numpy-base                1.16.5           py37hc3f5095_0  \n",
      "numpydoc                  0.9.1                      py_0  \n"
     ]
    }
   ],
   "source": [
    "!conda --version\n",
    "!conda list numpy"
   ]
  },
  {
   "cell_type": "code",
   "execution_count": 11,
   "metadata": {},
   "outputs": [
    {
     "data": {
      "text/plain": [
       "'1.16.5'"
      ]
     },
     "execution_count": 11,
     "metadata": {},
     "output_type": "execute_result"
    }
   ],
   "source": [
    "np.__version__"
   ]
  },
  {
   "cell_type": "code",
   "execution_count": 10,
   "metadata": {},
   "outputs": [
    {
     "name": "stdout",
     "output_type": "stream",
     "text": [
      "Collecting numpy\n",
      "  Downloading https://files.pythonhosted.org/packages/82/4e/61764556b7ec13f5bd441b04530e2f9f11bb164308ef0e6951919bb846cb/numpy-1.19.2-cp37-cp37m-win_amd64.whl (12.9MB)\n",
      "Installing collected packages: numpy\n",
      "  Found existing installation: numpy 1.16.5\n",
      "    Uninstalling numpy-1.16.5:\n",
      "      Successfully uninstalled numpy-1.16.5\n"
     ]
    },
    {
     "name": "stderr",
     "output_type": "stream",
     "text": [
      "ERROR: Could not install packages due to an EnvironmentError: [WinError 5] Access is denied: 'c:\\\\users\\\\bri\\\\anaconda3\\\\lib\\\\site-packages\\\\~umpy\\\\core\\\\_multiarray_tests.cp37-win_amd64.pyd'\n",
      "Consider using the `--user` option or check the permissions.\n",
      "\n"
     ]
    }
   ],
   "source": [
    "!pip install numpy --upgrade"
   ]
  },
  {
   "cell_type": "markdown",
   "metadata": {},
   "source": [
    "##array"
   ]
  },
  {
   "cell_type": "code",
   "execution_count": 36,
   "metadata": {},
   "outputs": [
    {
     "name": "stdout",
     "output_type": "stream",
     "text": [
      "[[ 1  2  3]\n",
      " [ 4  5  6]\n",
      " [ 7  8  9]\n",
      " [10 11 12]]\n"
     ]
    },
    {
     "data": {
      "text/plain": [
       "numpy.ndarray"
      ]
     },
     "execution_count": 36,
     "metadata": {},
     "output_type": "execute_result"
    }
   ],
   "source": [
    "arr1 = np.array([[1,2,3],[4,5,6],[7,8,9],[10,11,12]],dtype='int64')\n",
    "print(arr1)\n",
    "type(arr1)"
   ]
  },
  {
   "cell_type": "code",
   "execution_count": 19,
   "metadata": {},
   "outputs": [
    {
     "name": "stdout",
     "output_type": "stream",
     "text": [
      "[1 2 3]\n",
      "[10 11 12]\n"
     ]
    }
   ],
   "source": [
    "print(arr1[0])\n",
    "print(arr1[-1])"
   ]
  },
  {
   "cell_type": "code",
   "execution_count": 21,
   "metadata": {},
   "outputs": [
    {
     "name": "stdout",
     "output_type": "stream",
     "text": [
      "[[1, 2, 3], [4, 5, 6], [7, 8, 9], [10, 11, 12]]\n"
     ]
    }
   ],
   "source": [
    "# list tidak berbentuk matriks\n",
    "# kalau array berbentuk matriks\n",
    "list1 = [[1,2,3],[4,5,6],[7,8,9],[10,11,12]]\n",
    "print(list1)"
   ]
  },
  {
   "cell_type": "code",
   "execution_count": 23,
   "metadata": {},
   "outputs": [
    {
     "data": {
      "text/plain": [
       "1"
      ]
     },
     "execution_count": 23,
     "metadata": {},
     "output_type": "execute_result"
    }
   ],
   "source": [
    "list1[0][0]"
   ]
  },
  {
   "cell_type": "code",
   "execution_count": 30,
   "metadata": {},
   "outputs": [
    {
     "name": "stdout",
     "output_type": "stream",
     "text": [
      "1\n",
      "[ 1  4  7 10]\n"
     ]
    },
    {
     "data": {
      "text/plain": [
       "(1, 4, 7, 10)"
      ]
     },
     "execution_count": 30,
     "metadata": {},
     "output_type": "execute_result"
    }
   ],
   "source": [
    "print(arr1[0,0])\n",
    "#list1[0,0] tidak bisa\n",
    "print(arr1[:,0]) #column\n",
    "list1[0][0],list1[1][0],list1[2][0],list1[3][0]"
   ]
  },
  {
   "cell_type": "code",
   "execution_count": 37,
   "metadata": {},
   "outputs": [
    {
     "data": {
      "text/plain": [
       "(dtype('int64'), numpy.ndarray)"
      ]
     },
     "execution_count": 37,
     "metadata": {},
     "output_type": "execute_result"
    }
   ],
   "source": [
    "arr1.dtype, type(arr1)"
   ]
  },
  {
   "cell_type": "code",
   "execution_count": 35,
   "metadata": {},
   "outputs": [
    {
     "name": "stdout",
     "output_type": "stream",
     "text": [
      "[[0.1 0.2]\n",
      " [0.3 0.4]]\n"
     ]
    },
    {
     "data": {
      "text/plain": [
       "(dtype('float64'), numpy.ndarray)"
      ]
     },
     "execution_count": 35,
     "metadata": {},
     "output_type": "execute_result"
    }
   ],
   "source": [
    "arr2 = np.array([[.1,.2],[.3,.4]])\n",
    "print(arr2)\n",
    "arr2.dtype, type(arr2)"
   ]
  },
  {
   "cell_type": "code",
   "execution_count": 42,
   "metadata": {},
   "outputs": [],
   "source": [
    "arr3 = np.array([\n",
    "    [\n",
    "        [1,2,3],\n",
    "        [11,22,33]\n",
    "    ],\n",
    "    [\n",
    "        [4,5,6],\n",
    "        [44,55,66]\n",
    "    ]\n",
    "])"
   ]
  },
  {
   "cell_type": "code",
   "execution_count": 43,
   "metadata": {},
   "outputs": [
    {
     "name": "stdout",
     "output_type": "stream",
     "text": [
      "[[[ 1  2  3]\n",
      "  [11 22 33]]\n",
      "\n",
      " [[ 4  5  6]\n",
      "  [44 55 66]]]\n"
     ]
    }
   ],
   "source": [
    "print(arr3)"
   ]
  },
  {
   "cell_type": "code",
   "execution_count": 45,
   "metadata": {},
   "outputs": [
    {
     "name": "stdout",
     "output_type": "stream",
     "text": [
      "Shape of array1:  (4, 3)\n",
      "Shape of array2:  (2, 2)\n",
      "Shape of array3:  (2, 2, 3)\n",
      "Dimension of arr1 :  2\n",
      "Dimension of arr2 :  2\n",
      "Dimension of arr3 :  3\n"
     ]
    }
   ],
   "source": [
    "# shape of array\n",
    "print(\"Shape of array1: \", arr1.shape)\n",
    "print(\"Shape of array2: \", arr2.shape)\n",
    "print(\"Shape of array3: \", arr3.shape)\n",
    "\n",
    "# dimension of array\n",
    "print(\"Dimension of arr1 : \", arr1.ndim)\n",
    "print(\"Dimension of arr2 : \", arr2.ndim)\n",
    "print(\"Dimension of arr3 : \", arr3.ndim)"
   ]
  },
  {
   "cell_type": "code",
   "execution_count": null,
   "metadata": {},
   "outputs": [],
   "source": [
    "#array cuma bisa 1 tipe data\n",
    "#array ukurannya harus sama"
   ]
  },
  {
   "cell_type": "code",
   "execution_count": 46,
   "metadata": {},
   "outputs": [
    {
     "ename": "TypeError",
     "evalue": "array() missing required argument 'object' (pos 1)",
     "output_type": "error",
     "traceback": [
      "\u001b[1;31m---------------------------------------------------------------------------\u001b[0m",
      "\u001b[1;31mTypeError\u001b[0m                                 Traceback (most recent call last)",
      "\u001b[1;32m<ipython-input-46-091f4bf003b4>\u001b[0m in \u001b[0;36m<module>\u001b[1;34m\u001b[0m\n\u001b[1;32m----> 1\u001b[1;33m \u001b[0mnp\u001b[0m\u001b[1;33m.\u001b[0m\u001b[0marray\u001b[0m\u001b[1;33m(\u001b[0m\u001b[1;33m)\u001b[0m\u001b[1;33m\u001b[0m\u001b[1;33m\u001b[0m\u001b[0m\n\u001b[0m\u001b[0;32m      2\u001b[0m \u001b[0mnp\u001b[0m\u001b[1;33m.\u001b[0m\u001b[0mzeros\u001b[0m\u001b[1;33m(\u001b[0m\u001b[1;33m)\u001b[0m \u001b[1;31m# membuat array semua elemennya 0\u001b[0m\u001b[1;33m\u001b[0m\u001b[1;33m\u001b[0m\u001b[0m\n\u001b[0;32m      3\u001b[0m \u001b[0mnp\u001b[0m\u001b[1;33m.\u001b[0m\u001b[0mones\u001b[0m\u001b[1;33m(\u001b[0m\u001b[1;33m)\u001b[0m \u001b[1;31m# membuat array semua elemennya 1\u001b[0m\u001b[1;33m\u001b[0m\u001b[1;33m\u001b[0m\u001b[0m\n\u001b[0;32m      4\u001b[0m \u001b[0mnp\u001b[0m\u001b[1;33m.\u001b[0m\u001b[0mempty\u001b[0m\u001b[1;33m(\u001b[0m\u001b[1;33m)\u001b[0m \u001b[1;31m#\u001b[0m\u001b[1;33m\u001b[0m\u001b[1;33m\u001b[0m\u001b[0m\n\u001b[0;32m      5\u001b[0m \u001b[0mnp\u001b[0m\u001b[1;33m.\u001b[0m\u001b[0marrange\u001b[0m\u001b[1;33m(\u001b[0m\u001b[1;33m)\u001b[0m \u001b[1;31m#membuat array dengan bilangan random\u001b[0m\u001b[1;33m\u001b[0m\u001b[1;33m\u001b[0m\u001b[0m\n",
      "\u001b[1;31mTypeError\u001b[0m: array() missing required argument 'object' (pos 1)"
     ]
    }
   ],
   "source": [
    "np.array()\n",
    "np.zeros() # membuat array semua elemennya 0\n",
    "np.ones() # membuat array semua elemennya 1\n",
    "np.empty() # membuat array dengan bilangan random\n",
    "np.arrange() #membuat array dengan bilangan random"
   ]
  },
  {
   "cell_type": "code",
   "execution_count": 56,
   "metadata": {},
   "outputs": [],
   "source": [
    "arr_zero_1 = np.zeros(2)\n",
    "arr_zero_2 = np.zeros([5,2])\n",
    "arr_zero_3 = np.zeros([5,2,2])"
   ]
  },
  {
   "cell_type": "code",
   "execution_count": 59,
   "metadata": {},
   "outputs": [
    {
     "name": "stdout",
     "output_type": "stream",
     "text": [
      "[0. 0.] (2,)\n",
      "[[0. 0.]\n",
      " [0. 0.]\n",
      " [0. 0.]\n",
      " [0. 0.]\n",
      " [0. 0.]] (5, 2)\n",
      "[[[0. 0.]\n",
      "  [0. 0.]]\n",
      "\n",
      " [[0. 0.]\n",
      "  [0. 0.]]\n",
      "\n",
      " [[0. 0.]\n",
      "  [0. 0.]]\n",
      "\n",
      " [[0. 0.]\n",
      "  [0. 0.]]\n",
      "\n",
      " [[0. 0.]\n",
      "  [0. 0.]]] (5, 2, 2)\n"
     ]
    }
   ],
   "source": [
    "print(arr_zero_1,arr_zero_1.shape)\n",
    "print(arr_zero_2, arr_zero_2.shape)\n",
    "print(arr_zero_3,arr_zero_3.shape)"
   ]
  },
  {
   "cell_type": "code",
   "execution_count": 61,
   "metadata": {},
   "outputs": [],
   "source": [
    "arr_ones_1 = np.ones(2)\n",
    "arr_ones_2 = np.ones([5,2])\n",
    "arr_ones_3 = np.ones([5,2,2])"
   ]
  },
  {
   "cell_type": "code",
   "execution_count": 62,
   "metadata": {},
   "outputs": [
    {
     "name": "stdout",
     "output_type": "stream",
     "text": [
      "[1. 1.] (2,)\n",
      "[[1. 1.]\n",
      " [1. 1.]\n",
      " [1. 1.]\n",
      " [1. 1.]\n",
      " [1. 1.]] (5, 2)\n",
      "[[[1. 1.]\n",
      "  [1. 1.]]\n",
      "\n",
      " [[1. 1.]\n",
      "  [1. 1.]]\n",
      "\n",
      " [[1. 1.]\n",
      "  [1. 1.]]\n",
      "\n",
      " [[1. 1.]\n",
      "  [1. 1.]]\n",
      "\n",
      " [[1. 1.]\n",
      "  [1. 1.]]] (5, 2, 2)\n"
     ]
    }
   ],
   "source": [
    "print(arr_ones_1,arr_ones_1.shape)\n",
    "print(arr_ones_2, arr_ones_2.shape)\n",
    "print(arr_ones_3,arr_ones_3.shape)"
   ]
  },
  {
   "cell_type": "code",
   "execution_count": 69,
   "metadata": {},
   "outputs": [],
   "source": [
    "arr_empty = np.empty([7,4])"
   ]
  },
  {
   "cell_type": "code",
   "execution_count": 70,
   "metadata": {},
   "outputs": [
    {
     "name": "stdout",
     "output_type": "stream",
     "text": [
      "[[1.18422812e-311 9.23902758e-322 0.00000000e+000 0.00000000e+000]\n",
      " [1.18407365e-311 5.02034658e+175 3.08736282e-057 1.71636565e+185]\n",
      " [9.58732564e-043 6.12122583e+169 5.01163191e+217 5.49419094e-143]\n",
      " [1.50008929e+248 1.06396443e+224 1.47765135e+248 4.30625279e-096]\n",
      " [9.08366793e+223 2.10546825e-076 4.47042317e-033 4.91147188e-062]\n",
      " [3.69484292e-057 2.24729311e+174 1.56605686e-076 9.15558394e-072]\n",
      " [4.17265870e-057 7.49548297e-067 1.28625693e+248 4.24948967e-086]]\n"
     ]
    }
   ],
   "source": [
    "print(arr_empty)"
   ]
  },
  {
   "cell_type": "code",
   "execution_count": 74,
   "metadata": {},
   "outputs": [],
   "source": [
    "array = np.arange(0,10)"
   ]
  },
  {
   "cell_type": "code",
   "execution_count": 75,
   "metadata": {},
   "outputs": [
    {
     "name": "stdout",
     "output_type": "stream",
     "text": [
      "[0 1 2 3 4 5 6 7 8 9]\n"
     ]
    }
   ],
   "source": [
    "print(array)"
   ]
  },
  {
   "cell_type": "code",
   "execution_count": null,
   "metadata": {},
   "outputs": [],
   "source": [
    "# add, remove, sort"
   ]
  },
  {
   "cell_type": "code",
   "execution_count": 77,
   "metadata": {},
   "outputs": [
    {
     "data": {
      "text/plain": [
       "array([1, 2, 3, 4, 5])"
      ]
     },
     "execution_count": 77,
     "metadata": {},
     "output_type": "execute_result"
    }
   ],
   "source": [
    "arr_one = np.array([1,2,3,4,5])\n",
    "arr_one"
   ]
  },
  {
   "cell_type": "code",
   "execution_count": 78,
   "metadata": {},
   "outputs": [
    {
     "data": {
      "text/plain": [
       "array([ 1,  2,  3,  4,  5, 10])"
      ]
     },
     "execution_count": 78,
     "metadata": {},
     "output_type": "execute_result"
    }
   ],
   "source": [
    "np.append(arr_one,10)\n",
    "# axis = 1 "
   ]
  },
  {
   "cell_type": "code",
   "execution_count": 79,
   "metadata": {},
   "outputs": [
    {
     "data": {
      "text/plain": [
       "array([[ 1,  2,  3],\n",
       "       [ 4,  5,  6],\n",
       "       [ 7,  8,  9],\n",
       "       [10, 11, 12]], dtype=int64)"
      ]
     },
     "execution_count": 79,
     "metadata": {},
     "output_type": "execute_result"
    }
   ],
   "source": [
    "arr1"
   ]
  },
  {
   "cell_type": "code",
   "execution_count": 84,
   "metadata": {},
   "outputs": [
    {
     "data": {
      "text/plain": [
       "array([[ 1,  2,  3],\n",
       "       [ 4,  5,  6],\n",
       "       [ 7,  8,  9],\n",
       "       [10, 11, 12],\n",
       "       [13, 14, 15]], dtype=int64)"
      ]
     },
     "execution_count": 84,
     "metadata": {},
     "output_type": "execute_result"
    }
   ],
   "source": [
    "# arr4 = np.\n",
    "np.append(arr1, [[13,14,15]], axis=0)\n",
    "# axis = 0 menambah baris"
   ]
  },
  {
   "cell_type": "code",
   "execution_count": 87,
   "metadata": {},
   "outputs": [
    {
     "data": {
      "text/plain": [
       "array([[ 1,  2,  3, 13],\n",
       "       [ 4,  5,  6, 14],\n",
       "       [ 7,  8,  9, 15],\n",
       "       [10, 11, 12, 16]], dtype=int64)"
      ]
     },
     "execution_count": 87,
     "metadata": {},
     "output_type": "execute_result"
    }
   ],
   "source": [
    "np.append(arr1, np.array([[13],[14],[15],[16]]), axis=1)\n",
    "# axis = 1 menambah kolom"
   ]
  },
  {
   "cell_type": "code",
   "execution_count": 97,
   "metadata": {},
   "outputs": [
    {
     "ename": "ValueError",
     "evalue": "all the input arrays must have same number of dimensions",
     "output_type": "error",
     "traceback": [
      "\u001b[1;31m---------------------------------------------------------------------------\u001b[0m",
      "\u001b[1;31mValueError\u001b[0m                                Traceback (most recent call last)",
      "\u001b[1;32m<ipython-input-97-07ebd8198552>\u001b[0m in \u001b[0;36m<module>\u001b[1;34m\u001b[0m\n\u001b[1;32m----> 1\u001b[1;33m \u001b[0mnp\u001b[0m\u001b[1;33m.\u001b[0m\u001b[0mappend\u001b[0m\u001b[1;33m(\u001b[0m\u001b[0marr_ones_3\u001b[0m\u001b[1;33m,\u001b[0m\u001b[0mnp\u001b[0m\u001b[1;33m.\u001b[0m\u001b[0marray\u001b[0m\u001b[1;33m(\u001b[0m\u001b[1;33m[\u001b[0m\u001b[1;33m[\u001b[0m\u001b[1;33m[\u001b[0m\u001b[1;36m10\u001b[0m\u001b[1;33m,\u001b[0m\u001b[1;36m11\u001b[0m\u001b[1;33m]\u001b[0m\u001b[1;33m,\u001b[0m\u001b[1;33m[\u001b[0m\u001b[1;36m12\u001b[0m\u001b[1;33m,\u001b[0m\u001b[1;36m13\u001b[0m\u001b[1;33m]\u001b[0m\u001b[1;33m,\u001b[0m\u001b[1;33m[\u001b[0m\u001b[1;36m14\u001b[0m\u001b[1;33m,\u001b[0m\u001b[1;36m15\u001b[0m\u001b[1;33m]\u001b[0m\u001b[1;33m,\u001b[0m\u001b[1;33m[\u001b[0m\u001b[1;36m16\u001b[0m\u001b[1;33m,\u001b[0m\u001b[1;36m17\u001b[0m\u001b[1;33m]\u001b[0m\u001b[1;33m,\u001b[0m\u001b[1;33m[\u001b[0m\u001b[1;36m18\u001b[0m\u001b[1;33m,\u001b[0m\u001b[1;36m19\u001b[0m\u001b[1;33m]\u001b[0m\u001b[1;33m]\u001b[0m\u001b[1;33m,\u001b[0m\u001b[1;33m[\u001b[0m\u001b[1;36m10\u001b[0m\u001b[1;33m,\u001b[0m\u001b[1;36m11\u001b[0m\u001b[1;33m]\u001b[0m\u001b[1;33m,\u001b[0m\u001b[1;33m[\u001b[0m\u001b[1;36m12\u001b[0m\u001b[1;33m,\u001b[0m\u001b[1;36m13\u001b[0m\u001b[1;33m]\u001b[0m\u001b[1;33m,\u001b[0m\u001b[1;33m[\u001b[0m\u001b[1;36m14\u001b[0m\u001b[1;33m,\u001b[0m\u001b[1;36m15\u001b[0m\u001b[1;33m]\u001b[0m\u001b[1;33m,\u001b[0m\u001b[1;33m[\u001b[0m\u001b[1;36m16\u001b[0m\u001b[1;33m,\u001b[0m\u001b[1;36m17\u001b[0m\u001b[1;33m]\u001b[0m\u001b[1;33m,\u001b[0m\u001b[1;33m[\u001b[0m\u001b[1;36m18\u001b[0m\u001b[1;33m,\u001b[0m\u001b[1;36m19\u001b[0m\u001b[1;33m]\u001b[0m\u001b[1;33m]\u001b[0m\u001b[1;33m)\u001b[0m\u001b[1;33m,\u001b[0m\u001b[0maxis\u001b[0m\u001b[1;33m=\u001b[0m\u001b[1;36m1\u001b[0m\u001b[1;33m)\u001b[0m\u001b[1;33m\u001b[0m\u001b[1;33m\u001b[0m\u001b[0m\n\u001b[0m",
      "\u001b[1;32m~\\Anaconda3\\lib\\site-packages\\numpy\\lib\\function_base.py\u001b[0m in \u001b[0;36mappend\u001b[1;34m(arr, values, axis)\u001b[0m\n\u001b[0;32m   4692\u001b[0m     \u001b[0mIf\u001b[0m \u001b[0mvalues\u001b[0m \u001b[1;32min\u001b[0m\u001b[0;31m \u001b[0m\u001b[0;31m`\u001b[0m\u001b[0mx\u001b[0m\u001b[0;31m`\u001b[0m \u001b[0mare\u001b[0m \u001b[0mbeyond\u001b[0m \u001b[0mthe\u001b[0m \u001b[0mbounds\u001b[0m \u001b[0mof\u001b[0m\u001b[0;31m \u001b[0m\u001b[0;31m`\u001b[0m\u001b[0mbins\u001b[0m\u001b[0;31m`\u001b[0m\u001b[1;33m,\u001b[0m \u001b[1;36m0\u001b[0m \u001b[1;32mor\u001b[0m\u001b[0;31m \u001b[0m\u001b[0;31m`\u001b[0m\u001b[0;31m`\u001b[0m\u001b[0mlen\u001b[0m\u001b[1;33m(\u001b[0m\u001b[0mbins\u001b[0m\u001b[1;33m)\u001b[0m\u001b[0;31m`\u001b[0m\u001b[0;31m`\u001b[0m \u001b[1;32mis\u001b[0m\u001b[1;33m\u001b[0m\u001b[1;33m\u001b[0m\u001b[0m\n\u001b[0;32m   4693\u001b[0m     \u001b[0mreturned\u001b[0m \u001b[1;32mas\u001b[0m \u001b[0mappropriate\u001b[0m\u001b[1;33m.\u001b[0m\u001b[1;33m\u001b[0m\u001b[1;33m\u001b[0m\u001b[0m\n\u001b[1;32m-> 4694\u001b[1;33m \u001b[1;33m\u001b[0m\u001b[0m\n\u001b[0m\u001b[0;32m   4695\u001b[0m     \u001b[0mParameters\u001b[0m\u001b[1;33m\u001b[0m\u001b[1;33m\u001b[0m\u001b[0m\n\u001b[0;32m   4696\u001b[0m     \u001b[1;33m-\u001b[0m\u001b[1;33m-\u001b[0m\u001b[1;33m-\u001b[0m\u001b[1;33m-\u001b[0m\u001b[1;33m-\u001b[0m\u001b[1;33m-\u001b[0m\u001b[1;33m-\u001b[0m\u001b[1;33m-\u001b[0m\u001b[1;33m-\u001b[0m\u001b[1;33m-\u001b[0m\u001b[1;33m\u001b[0m\u001b[1;33m\u001b[0m\u001b[0m\n",
      "\u001b[1;31mValueError\u001b[0m: all the input arrays must have same number of dimensions"
     ]
    }
   ],
   "source": [
    "np.append(arr_ones_3,np.array([[[10,11],[12,13],[14,15],[16,17],[18,19]],[10,11],[12,13],[14,15],[16,17],[18,19]]),axis=1)"
   ]
  },
  {
   "cell_type": "code",
   "execution_count": 88,
   "metadata": {},
   "outputs": [
    {
     "data": {
      "text/plain": [
       "(5, 2, 2)"
      ]
     },
     "execution_count": 88,
     "metadata": {},
     "output_type": "execute_result"
    }
   ],
   "source": [
    "arr_ones_3.shape"
   ]
  },
  {
   "cell_type": "code",
   "execution_count": 98,
   "metadata": {},
   "outputs": [
    {
     "data": {
      "text/plain": [
       "(2, 5, 2)"
      ]
     },
     "execution_count": 98,
     "metadata": {},
     "output_type": "execute_result"
    }
   ],
   "source": [
    "np.array([[[10,11],[12,13],[14,15],[16,17],[18,19]],\n",
    "          [[10,11],[12,13],[14,15],[16,17],[18,19]]]).shape"
   ]
  },
  {
   "cell_type": "code",
   "execution_count": 93,
   "metadata": {},
   "outputs": [
    {
     "name": "stdout",
     "output_type": "stream",
     "text": [
      "[ 0  1  2  3  4  5  6  7  8  9 10 11]\n",
      "[ 1  2  3  4  5  6  7  8  9 10 11 12]\n"
     ]
    }
   ],
   "source": [
    "arr_12 = np.arange(12)\n",
    "print(arr_12)\n",
    "print(arr_12+1)"
   ]
  },
  {
   "cell_type": "code",
   "execution_count": 104,
   "metadata": {},
   "outputs": [
    {
     "name": "stdout",
     "output_type": "stream",
     "text": [
      "[[ 1  2  3]\n",
      " [ 4  5  6]\n",
      " [ 7  8  9]\n",
      " [10 11 12]]\n",
      "(4, 3)\n"
     ]
    }
   ],
   "source": [
    "print(arr1)\n",
    "print(arr1.shape)"
   ]
  },
  {
   "cell_type": "code",
   "execution_count": 107,
   "metadata": {},
   "outputs": [
    {
     "data": {
      "text/plain": [
       "array([[ 2,  3],\n",
       "       [ 5,  6],\n",
       "       [ 8,  9],\n",
       "       [11, 12]], dtype=int64)"
      ]
     },
     "execution_count": 107,
     "metadata": {},
     "output_type": "execute_result"
    }
   ],
   "source": [
    "np.delete(arr1,0,axis=1)\n",
    "# menghapus kolom kedua"
   ]
  },
  {
   "cell_type": "code",
   "execution_count": 100,
   "metadata": {},
   "outputs": [
    {
     "data": {
      "text/plain": [
       "array([[ 1,  2,  3],\n",
       "       [ 7,  8,  9],\n",
       "       [10, 11, 12]], dtype=int64)"
      ]
     },
     "execution_count": 100,
     "metadata": {},
     "output_type": "execute_result"
    }
   ],
   "source": [
    "np.delete(arr1,1,axis=0)\n",
    "#menghapus baris ke-1"
   ]
  },
  {
   "cell_type": "code",
   "execution_count": 108,
   "metadata": {},
   "outputs": [
    {
     "data": {
      "text/plain": [
       "array([[[ 1,  2,  3],\n",
       "        [11, 22, 33]],\n",
       "\n",
       "       [[ 4,  5,  6],\n",
       "        [44, 55, 66]]])"
      ]
     },
     "execution_count": 108,
     "metadata": {},
     "output_type": "execute_result"
    }
   ],
   "source": [
    "# digunakan untuk mengurutkan\n",
    "np.sort(arr3)"
   ]
  },
  {
   "cell_type": "code",
   "execution_count": 111,
   "metadata": {},
   "outputs": [
    {
     "data": {
      "text/plain": [
       "array([[ 5, 11, 10],\n",
       "       [ 4,  5,  6],\n",
       "       [ 7,  8,  9],\n",
       "       [10, 11, 12]], dtype=int64)"
      ]
     },
     "execution_count": 111,
     "metadata": {},
     "output_type": "execute_result"
    }
   ],
   "source": [
    "arr1[0] = [5,11,10]\n",
    "arr1"
   ]
  },
  {
   "cell_type": "code",
   "execution_count": 112,
   "metadata": {},
   "outputs": [
    {
     "name": "stdout",
     "output_type": "stream",
     "text": [
      "[[ 5 10 11]\n",
      " [ 4  5  6]\n",
      " [ 7  8  9]\n",
      " [10 11 12]]\n",
      "[[ 4  5  6]\n",
      " [ 5  8  9]\n",
      " [ 7 11 10]\n",
      " [10 11 12]]\n"
     ]
    }
   ],
   "source": [
    "print(np.sort(arr1))\n",
    "print(np.sort(arr1,axis=0))"
   ]
  },
  {
   "cell_type": "code",
   "execution_count": 115,
   "metadata": {},
   "outputs": [
    {
     "data": {
      "text/plain": [
       "(4, 3)"
      ]
     },
     "execution_count": 115,
     "metadata": {},
     "output_type": "execute_result"
    }
   ],
   "source": [
    "arr1.shape"
   ]
  },
  {
   "cell_type": "code",
   "execution_count": 116,
   "metadata": {},
   "outputs": [
    {
     "name": "stdout",
     "output_type": "stream",
     "text": [
      "[1 2 3 4 5] (5,)\n",
      "[[1]\n",
      " [2]\n",
      " [3]\n",
      " [4]\n",
      " [5]] (5, 1)\n"
     ]
    }
   ],
   "source": [
    "# perbedaan vector kolom dan baris\n",
    "vector_baris = np.array([1,2,3,4,5])\n",
    "print(vector_baris, vector_baris.shape)\n",
    "vector_col = np.array([[1],[2],[3],[4],[5]])\n",
    "print(vector_col, vector_col.shape)"
   ]
  },
  {
   "cell_type": "code",
   "execution_count": 123,
   "metadata": {},
   "outputs": [
    {
     "name": "stdout",
     "output_type": "stream",
     "text": [
      "normal : [[ 5 11 10]\n",
      " [ 4  5  6]\n",
      " [ 7  8  9]\n",
      " [10 11 12]]\n",
      "reshape :  [[ 5 11 10  4]\n",
      " [ 5  6  7  8]\n",
      " [ 9 10 11 12]]\n"
     ]
    }
   ],
   "source": [
    "print(\"normal :\",arr1)\n",
    "print(\"reshape : \",np.reshape(arr1,(3,4)))"
   ]
  },
  {
   "cell_type": "code",
   "execution_count": 125,
   "metadata": {},
   "outputs": [
    {
     "data": {
      "text/plain": [
       "(4, 3, 1)"
      ]
     },
     "execution_count": 125,
     "metadata": {},
     "output_type": "execute_result"
    }
   ],
   "source": [
    "arr1[:,:,np.newaxis].shape"
   ]
  },
  {
   "cell_type": "code",
   "execution_count": 126,
   "metadata": {},
   "outputs": [
    {
     "data": {
      "text/plain": [
       "array([11, 10,  6,  7,  8,  9, 10, 11, 12], dtype=int64)"
      ]
     },
     "execution_count": 126,
     "metadata": {},
     "output_type": "execute_result"
    }
   ],
   "source": [
    "arr1[arr1>5]"
   ]
  },
  {
   "cell_type": "code",
   "execution_count": 127,
   "metadata": {},
   "outputs": [
    {
     "data": {
      "text/plain": [
       "array([10,  4,  6,  8, 10, 12], dtype=int64)"
      ]
     },
     "execution_count": 127,
     "metadata": {},
     "output_type": "execute_result"
    }
   ],
   "source": [
    "# mengambil elemen bilangan genap\n",
    "arr1[arr1 % 2 == 0]"
   ]
  },
  {
   "cell_type": "code",
   "execution_count": 129,
   "metadata": {},
   "outputs": [
    {
     "data": {
      "text/plain": [
       "array([10,  4,  6,  8,  9, 10, 12], dtype=int64)"
      ]
     },
     "execution_count": 129,
     "metadata": {},
     "output_type": "execute_result"
    }
   ],
   "source": [
    "# mengambil elemen bilangan genap\n",
    "arr1[(arr1 % 2 == 0) | (arr1 % 3 == 0)]"
   ]
  },
  {
   "cell_type": "code",
   "execution_count": 130,
   "metadata": {},
   "outputs": [
    {
     "name": "stdout",
     "output_type": "stream",
     "text": [
      "[[ 5 11 10]\n",
      " [ 4  5  6]\n",
      " [ 7  8  9]\n",
      " [10 11 12]]\n",
      "[26 35 37]\n",
      "[26 15 24 33]\n"
     ]
    }
   ],
   "source": [
    "print(arr1)\n",
    "print(arr1.sum(axis=0))\n",
    "print(arr1.sum(axis=1))"
   ]
  },
  {
   "cell_type": "code",
   "execution_count": 131,
   "metadata": {},
   "outputs": [
    {
     "name": "stdout",
     "output_type": "stream",
     "text": [
      "2.6087459737497545 8.166666666666666 4\n"
     ]
    }
   ],
   "source": [
    "print(arr1.std(),arr1.mean(),arr1.min())"
   ]
  },
  {
   "cell_type": "code",
   "execution_count": 134,
   "metadata": {},
   "outputs": [
    {
     "name": "stdout",
     "output_type": "stream",
     "text": [
      "[[ 5 11 10]\n",
      " [ 4  5  6]\n",
      " [ 7  8  9]\n",
      " [10 11 12]]\n",
      "[[10 22 20]\n",
      " [ 8 10 12]\n",
      " [14 16 18]\n",
      " [20 22 24]]\n"
     ]
    }
   ],
   "source": [
    "arr11 = arr1*2\n",
    "print(arr1)\n",
    "print(arr11)"
   ]
  },
  {
   "cell_type": "code",
   "execution_count": 139,
   "metadata": {},
   "outputs": [
    {
     "name": "stdout",
     "output_type": "stream",
     "text": [
      "[[15 33 30]\n",
      " [12 15 18]\n",
      " [21 24 27]\n",
      " [30 33 36]]\n",
      "[[ 50 242 200]\n",
      " [ 32  50  72]\n",
      " [ 98 128 162]\n",
      " [200 242 288]]\n",
      "[[ 50 242 200]\n",
      " [ 32  50  72]\n",
      " [ 98 128 162]\n",
      " [200 242 288]]\n"
     ]
    }
   ],
   "source": [
    "print(arr1+arr11)\n",
    "print(arr1*arr11)\n",
    "print(np.multiply(arr1,arr11))"
   ]
  },
  {
   "cell_type": "code",
   "execution_count": 136,
   "metadata": {},
   "outputs": [
    {
     "data": {
      "text/plain": [
       "array([[492, 270, 426, 582],\n",
       "       [270, 154, 244, 334],\n",
       "       [426, 244, 388, 532],\n",
       "       [582, 334, 532, 730]], dtype=int64)"
      ]
     },
     "execution_count": 136,
     "metadata": {},
     "output_type": "execute_result"
    }
   ],
   "source": [
    "arr1.dot(arr11.T)"
   ]
  },
  {
   "cell_type": "code",
   "execution_count": 37,
   "metadata": {},
   "outputs": [
    {
     "name": "stdout",
     "output_type": "stream",
     "text": [
      "[[0.  ]\n",
      " [0.05]\n",
      " [0.1 ]\n",
      " [0.15]\n",
      " [0.2 ]\n",
      " [0.25]\n",
      " [0.3 ]\n",
      " [0.35]\n",
      " [0.4 ]\n",
      " [0.45]\n",
      " [0.5 ]\n",
      " [0.55]\n",
      " [0.6 ]\n",
      " [0.65]\n",
      " [0.7 ]\n",
      " [0.75]\n",
      " [0.8 ]\n",
      " [0.85]\n",
      " [0.9 ]\n",
      " [0.95]] (20, 1)\n"
     ]
    }
   ],
   "source": [
    "arr_kuis = np.arange(0,1,0.05)[:, None]\n",
    "print(arr_kuis,arr_kuis.shape)"
   ]
  },
  {
   "cell_type": "code",
   "execution_count": 31,
   "metadata": {},
   "outputs": [
    {
     "name": "stdout",
     "output_type": "stream",
     "text": [
      "[[0.   0.05]\n",
      " [0.1  0.15]\n",
      " [0.2  0.25]\n",
      " [0.3  0.35]\n",
      " [0.4  0.45]\n",
      " [0.5  0.55]\n",
      " [0.6  0.65]\n",
      " [0.7  0.75]\n",
      " [0.8  0.85]\n",
      " [0.9  0.95]]\n"
     ]
    }
   ],
   "source": [
    "arr_kuis_reshape = np.reshape(arr_kuis,(10,2))\n",
    "print(arr_kuis_reshape)"
   ]
  },
  {
   "cell_type": "code",
   "execution_count": 32,
   "metadata": {},
   "outputs": [],
   "source": [
    "arr_kuis_reshape_2_times = 2*arr_kuis_reshape"
   ]
  },
  {
   "cell_type": "code",
   "execution_count": 35,
   "metadata": {},
   "outputs": [
    {
     "name": "stdout",
     "output_type": "stream",
     "text": [
      "[[0.  0.1]\n",
      " [0.2 0.3]\n",
      " [0.4 0.5]\n",
      " [0.6 0.7]\n",
      " [0.8 0.9]\n",
      " [1.  1.1]\n",
      " [1.2 1.3]\n",
      " [1.4 1.5]\n",
      " [1.6 1.7]\n",
      " [1.8 1.9]] (10, 2)\n"
     ]
    }
   ],
   "source": [
    "print(arr_kuis_reshape_2_times,arr_kuis_reshape_2_times.shape)"
   ]
  },
  {
   "cell_type": "code",
   "execution_count": 39,
   "metadata": {},
   "outputs": [
    {
     "name": "stdout",
     "output_type": "stream",
     "text": [
      "[[0.  0.2 0.4 0.6 0.8 1.  1.2 1.4 1.6 1.8]\n",
      " [0.1 0.3 0.5 0.7 0.9 1.1 1.3 1.5 1.7 1.9]] (2, 10)\n"
     ]
    }
   ],
   "source": [
    "transpose = arr_kuis_reshape_2_times.T\n",
    "print(transpose, transpose.shape)"
   ]
  },
  {
   "cell_type": "code",
   "execution_count": 44,
   "metadata": {},
   "outputs": [
    {
     "ename": "ValueError",
     "evalue": "matmul: Input operand 1 has a mismatch in its core dimension 0, with gufunc signature (n?,k),(k,m?)->(n?,m?) (size 2 is different from 1)",
     "output_type": "error",
     "traceback": [
      "\u001b[1;31m---------------------------------------------------------------------------\u001b[0m",
      "\u001b[1;31mValueError\u001b[0m                                Traceback (most recent call last)",
      "\u001b[1;32m<ipython-input-44-f1994e0155a6>\u001b[0m in \u001b[0;36m<module>\u001b[1;34m\u001b[0m\n\u001b[1;32m----> 1\u001b[1;33m \u001b[0mmm\u001b[0m \u001b[1;33m=\u001b[0m \u001b[0mnp\u001b[0m\u001b[1;33m.\u001b[0m\u001b[0mmatmul\u001b[0m\u001b[1;33m(\u001b[0m\u001b[0marr_kuis\u001b[0m\u001b[1;33m,\u001b[0m \u001b[0mtranspose\u001b[0m\u001b[1;33m)\u001b[0m\u001b[1;33m\u001b[0m\u001b[1;33m\u001b[0m\u001b[0m\n\u001b[0m\u001b[0;32m      2\u001b[0m \u001b[1;31m# transpose = arr_kuis_reshape_2_times.T\u001b[0m\u001b[1;33m\u001b[0m\u001b[1;33m\u001b[0m\u001b[1;33m\u001b[0m\u001b[0m\n\u001b[0;32m      3\u001b[0m \u001b[0mprint\u001b[0m\u001b[1;33m(\u001b[0m\u001b[0mmm\u001b[0m\u001b[1;33m)\u001b[0m\u001b[1;33m\u001b[0m\u001b[1;33m\u001b[0m\u001b[0m\n",
      "\u001b[1;31mValueError\u001b[0m: matmul: Input operand 1 has a mismatch in its core dimension 0, with gufunc signature (n?,k),(k,m?)->(n?,m?) (size 2 is different from 1)"
     ]
    }
   ],
   "source": [
    "mm = np.matmul(arr_kuis, transpose)\n",
    "# transpose = arr_kuis_reshape_2_times.T\n",
    "print(mm)"
   ]
  },
  {
   "cell_type": "code",
   "execution_count": 26,
   "metadata": {},
   "outputs": [
    {
     "name": "stdout",
     "output_type": "stream",
     "text": [
      "[0.05 0.25 0.45 0.65 0.85 1.05 1.25 1.45 1.65 1.85]\n"
     ]
    }
   ],
   "source": [
    "mm_mean = transpose.mean(axis = 0)\n",
    "print(mm_mean)"
   ]
  },
  {
   "cell_type": "code",
   "execution_count": 42,
   "metadata": {},
   "outputs": [
    {
     "name": "stdout",
     "output_type": "stream",
     "text": [
      "[0.05 0.25 0.45 0.65 0.85 1.05 1.25 1.45 1.65 1.85]\n"
     ]
    },
    {
     "data": {
      "text/plain": [
       "(array([0.05, 0.05, 0.05, 0.05, 0.05, 0.05, 0.05, 0.05, 0.05, 0.05]),\n",
       " array([0.0025, 0.0025, 0.0025, 0.0025, 0.0025, 0.0025, 0.0025, 0.0025,\n",
       "        0.0025, 0.0025]))"
      ]
     },
     "execution_count": 42,
     "metadata": {},
     "output_type": "execute_result"
    }
   ],
   "source": [
    "mm_median = np.median(transpose,axis = 0)\n",
    "print(mm_median)\n",
    "transpose.std(axis=0), transpose.var(axis = 0)"
   ]
  },
  {
   "cell_type": "code",
   "execution_count": 61,
   "metadata": {},
   "outputs": [],
   "source": [
    "# digunakan untuk tetap menyamakan nilai random apabila di refresh\n",
    "np.random.seed(0)\n",
    "rand_int = np.random.randint(5,10, size=(3,2))\n",
    "rand_uniform = np.random.uniform(10,50, size=(3,2))\n",
    "# sesuai parameter distribusi normal sesuai dengan rata-rata dan std\n",
    "# 1. untuk rata-rata 5. std\n",
    "rand_normal = np.random.normal(1.,5., size=(3,2))"
   ]
  },
  {
   "cell_type": "code",
   "execution_count": 62,
   "metadata": {},
   "outputs": [
    {
     "name": "stdout",
     "output_type": "stream",
     "text": [
      "[[9 5]\n",
      " [8 8]\n",
      " [8 6]]\n",
      "[[34.94254787 25.37526829]\n",
      " [21.90138426 12.26851909]\n",
      " [20.90625178 29.10660469]]\n",
      "[[ 0.56163466  7.83439683]\n",
      " [ 6.62657052 -0.79497776]\n",
      " [ 7.10304049 -5.69747775]]\n"
     ]
    }
   ],
   "source": [
    "print(rand_int)\n",
    "print(rand_uniform)\n",
    "print(rand_normal)"
   ]
  },
  {
   "cell_type": "code",
   "execution_count": null,
   "metadata": {},
   "outputs": [],
   "source": []
  },
  {
   "cell_type": "code",
   "execution_count": null,
   "metadata": {},
   "outputs": [],
   "source": []
  },
  {
   "cell_type": "code",
   "execution_count": null,
   "metadata": {},
   "outputs": [],
   "source": []
  },
  {
   "cell_type": "code",
   "execution_count": null,
   "metadata": {},
   "outputs": [],
   "source": []
  }
 ],
 "metadata": {
  "kernelspec": {
   "display_name": "Python 3",
   "language": "python",
   "name": "python3"
  },
  "language_info": {
   "codemirror_mode": {
    "name": "ipython",
    "version": 3
   },
   "file_extension": ".py",
   "mimetype": "text/x-python",
   "name": "python",
   "nbconvert_exporter": "python",
   "pygments_lexer": "ipython3",
   "version": "3.7.4"
  }
 },
 "nbformat": 4,
 "nbformat_minor": 2
}
